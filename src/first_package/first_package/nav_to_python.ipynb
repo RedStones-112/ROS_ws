{
 "cells": [
  {
   "cell_type": "code",
   "execution_count": 1,
   "metadata": {},
   "outputs": [],
   "source": [
    "from nav2_simple_commander.robot_navigator import BasicNavigator\n",
    "import rclpy\n",
    "rclpy.init()\n",
    "nav = BasicNavigator()"
   ]
  },
  {
   "cell_type": "code",
   "execution_count": 2,
   "metadata": {},
   "outputs": [
    {
     "name": "stderr",
     "output_type": "stream",
     "text": [
      "[INFO] [1714369954.319183216] [basic_navigator]: Nav2 is ready for use!\n"
     ]
    }
   ],
   "source": [
    "nav.waitUntilNav2Active()"
   ]
  },
  {
   "cell_type": "code",
   "execution_count": 13,
   "metadata": {},
   "outputs": [],
   "source": [
    "# from geometry_msgs.msg import PoseStamped\n",
    "\n",
    "# goal_pose = PoseStamped()\n",
    "# goal_pose.header.frame_id = 'map'\n",
    "# goal_pose.header.stamp = nav.get_clock().now().to_msg()\n",
    "# goal_pose.pose.position.x = 5.9\n",
    "# goal_pose.pose.position.y = 0.044\n",
    "# goal_pose.pose.position.z = 0.0\n",
    "# goal_pose.pose.orientation.x = 0.0\n",
    "# goal_pose.pose.orientation.y = 0.0\n",
    "# goal_pose.pose.orientation.z = 0.0\n",
    "# goal_pose.pose.orientation.w = 0.94\n"
   ]
  },
  {
   "cell_type": "code",
   "execution_count": 14,
   "metadata": {},
   "outputs": [
    {
     "name": "stderr",
     "output_type": "stream",
     "text": [
      "[INFO] [1714369160.949775411] [basic_navigator]: Navigating to goal: 5.9 0.044...\n"
     ]
    },
    {
     "data": {
      "text/plain": [
       "True"
      ]
     },
     "execution_count": 14,
     "metadata": {},
     "output_type": "execute_result"
    }
   ],
   "source": [
    "# nav.goToPose(goal_pose)"
   ]
  },
  {
   "cell_type": "code",
   "execution_count": 22,
   "metadata": {},
   "outputs": [
    {
     "name": "stderr",
     "output_type": "stream",
     "text": [
      "[INFO] [1714371537.556252942] [basic_navigator]: Navigating to goal: 5.9 0.04...\n"
     ]
    },
    {
     "name": "stdout",
     "output_type": "stream",
     "text": [
      "distance remaining: 5.80 meters.\n",
      "distance remaining: 5.70 meters.\n",
      "distance remaining: 5.60 meters.\n",
      "distance remaining: 5.45 meters.\n",
      "distance remaining: 5.30 meters.\n",
      "distance remaining: 5.20 meters.\n",
      "distance remaining: 5.10 meters.\n",
      "distance remaining: 4.95 meters.\n",
      "distance remaining: 4.85 meters.\n",
      "distance remaining: 4.70 meters.\n",
      "distance remaining: 4.60 meters.\n",
      "distance remaining: 4.45 meters.\n",
      "distance remaining: 4.35 meters.\n",
      "distance remaining: 4.20 meters.\n",
      "distance remaining: 4.10 meters.\n",
      "distance remaining: 3.95 meters.\n",
      "distance remaining: 3.85 meters.\n",
      "distance remaining: 3.75 meters.\n",
      "distance remaining: 3.60 meters.\n",
      "distance remaining: 3.50 meters.\n",
      "distance remaining: 3.35 meters.\n",
      "distance remaining: 3.25 meters.\n",
      "distance remaining: 3.10 meters.\n",
      "distance remaining: 2.95 meters.\n",
      "distance remaining: 2.85 meters.\n",
      "distance remaining: 2.70 meters.\n",
      "distance remaining: 2.60 meters.\n",
      "distance remaining: 2.45 meters.\n",
      "distance remaining: 2.35 meters.\n",
      "distance remaining: 2.20 meters.\n",
      "distance remaining: 2.10 meters.\n",
      "distance remaining: 2.00 meters.\n",
      "distance remaining: 1.85 meters.\n",
      "distance remaining: 1.75 meters.\n",
      "distance remaining: 1.65 meters.\n",
      "distance remaining: 1.50 meters.\n",
      "distance remaining: 1.36 meters.\n",
      "distance remaining: 1.26 meters.\n",
      "distance remaining: 1.15 meters.\n",
      "distance remaining: 1.05 meters.\n",
      "distance remaining: 0.90 meters.\n",
      "distance remaining: 0.80 meters.\n",
      "distance remaining: 0.66 meters.\n",
      "distance remaining: 0.56 meters.\n",
      "distance remaining: 0.42 meters.\n",
      "distance remaining: 0.27 meters.\n",
      "distance remaining: 0.22 meters.\n",
      "distance remaining: 0.22 meters.\n",
      "goal succeeded!!\n"
     ]
    },
    {
     "name": "stderr",
     "output_type": "stream",
     "text": [
      "[INFO] [1714371562.024650148] [basic_navigator]: Navigating to goal: 7.8 -2.0...\n"
     ]
    },
    {
     "name": "stdout",
     "output_type": "stream",
     "text": [
      "distance remaining: 2.83 meters.\n",
      "distance remaining: 2.69 meters.\n",
      "distance remaining: 2.58 meters.\n",
      "distance remaining: 2.44 meters.\n",
      "distance remaining: 2.30 meters.\n",
      "distance remaining: 2.23 meters.\n",
      "distance remaining: 2.06 meters.\n",
      "distance remaining: 1.99 meters.\n",
      "distance remaining: 1.80 meters.\n",
      "distance remaining: 1.73 meters.\n",
      "distance remaining: 1.63 meters.\n",
      "distance remaining: 1.49 meters.\n",
      "distance remaining: 1.31 meters.\n",
      "distance remaining: 1.24 meters.\n",
      "distance remaining: 1.10 meters.\n",
      "distance remaining: 0.96 meters.\n",
      "distance remaining: 0.89 meters.\n",
      "distance remaining: 0.74 meters.\n",
      "distance remaining: 0.64 meters.\n",
      "distance remaining: 0.49 meters.\n",
      "distance remaining: 0.42 meters.\n",
      "distance remaining: 0.28 meters.\n",
      "distance remaining: 0.21 meters.\n",
      "distance remaining: 0.21 meters.\n",
      "distance remaining: 0.21 meters.\n",
      "distance remaining: 0.21 meters.\n",
      "distance remaining: 0.26 meters.\n",
      "distance remaining: 0.19 meters.\n",
      "goal succeeded!!\n"
     ]
    },
    {
     "name": "stderr",
     "output_type": "stream",
     "text": [
      "[INFO] [1714371576.356001328] [basic_navigator]: Navigating to goal: 7.89 -2.9...\n"
     ]
    },
    {
     "name": "stdout",
     "output_type": "stream",
     "text": [
      "distance remaining: 1.09 meters.\n",
      "distance remaining: 1.04 meters.\n",
      "distance remaining: 0.91 meters.\n",
      "distance remaining: 0.81 meters.\n",
      "distance remaining: 0.65 meters.\n",
      "distance remaining: 0.50 meters.\n",
      "distance remaining: 0.40 meters.\n",
      "distance remaining: 0.30 meters.\n",
      "distance remaining: 0.20 meters.\n",
      "distance remaining: 0.20 meters.\n",
      "distance remaining: 0.20 meters.\n",
      "distance remaining: 0.20 meters.\n",
      "distance remaining: 0.20 meters.\n",
      "distance remaining: 0.20 meters.\n",
      "distance remaining: 0.25 meters.\n",
      "distance remaining: 0.25 meters.\n",
      "distance remaining: 0.27 meters.\n",
      "distance remaining: 0.27 meters.\n",
      "distance remaining: 0.27 meters.\n",
      "distance remaining: 0.22 meters.\n",
      "distance remaining: 0.22 meters.\n",
      "distance remaining: 0.22 meters.\n",
      "goal succeeded!!\n"
     ]
    },
    {
     "name": "stderr",
     "output_type": "stream",
     "text": [
      "[INFO] [1714371587.936109513] [basic_navigator]: Navigating to goal: 5.68 -4.77...\n"
     ]
    },
    {
     "name": "stdout",
     "output_type": "stream",
     "text": [
      "distance remaining: 3.06 meters.\n",
      "distance remaining: 3.06 meters.\n",
      "distance remaining: 3.06 meters.\n",
      "distance remaining: 2.99 meters.\n",
      "distance remaining: 2.91 meters.\n",
      "distance remaining: 2.77 meters.\n",
      "distance remaining: 2.71 meters.\n",
      "distance remaining: 2.57 meters.\n",
      "distance remaining: 2.46 meters.\n",
      "distance remaining: 2.32 meters.\n",
      "distance remaining: 2.24 meters.\n",
      "distance remaining: 2.10 meters.\n",
      "distance remaining: 2.02 meters.\n",
      "distance remaining: 1.88 meters.\n",
      "distance remaining: 1.69 meters.\n",
      "distance remaining: 1.57 meters.\n",
      "distance remaining: 1.43 meters.\n",
      "distance remaining: 1.32 meters.\n",
      "distance remaining: 1.18 meters.\n",
      "distance remaining: 1.06 meters.\n",
      "distance remaining: 0.98 meters.\n",
      "distance remaining: 0.86 meters.\n",
      "distance remaining: 0.73 meters.\n",
      "distance remaining: 0.61 meters.\n",
      "distance remaining: 0.52 meters.\n",
      "distance remaining: 0.38 meters.\n",
      "distance remaining: 0.26 meters.\n",
      "distance remaining: 0.19 meters.\n",
      "distance remaining: 0.21 meters.\n",
      "distance remaining: 0.21 meters.\n",
      "distance remaining: 0.19 meters.\n",
      "distance remaining: 0.19 meters.\n",
      "distance remaining: 0.22 meters.\n",
      "distance remaining: 0.22 meters.\n",
      "distance remaining: 0.17 meters.\n",
      "distance remaining: 0.17 meters.\n",
      "distance remaining: 0.17 meters.\n",
      "goal succeeded!!\n"
     ]
    },
    {
     "name": "stderr",
     "output_type": "stream",
     "text": [
      "[INFO] [1714371607.015555383] [basic_navigator]: Navigating to goal: 1.45 -2.07...\n"
     ]
    },
    {
     "name": "stdout",
     "output_type": "stream",
     "text": [
      "distance remaining: 5.18 meters.\n",
      "distance remaining: 5.18 meters.\n",
      "distance remaining: 5.18 meters.\n",
      "distance remaining: 5.12 meters.\n",
      "distance remaining: 5.07 meters.\n",
      "distance remaining: 4.96 meters.\n",
      "distance remaining: 4.84 meters.\n",
      "distance remaining: 4.74 meters.\n",
      "distance remaining: 4.56 meters.\n",
      "distance remaining: 4.45 meters.\n",
      "distance remaining: 4.34 meters.\n",
      "distance remaining: 4.22 meters.\n",
      "distance remaining: 4.15 meters.\n",
      "distance remaining: 4.01 meters.\n",
      "distance remaining: 3.92 meters.\n",
      "distance remaining: 3.78 meters.\n",
      "distance remaining: 3.68 meters.\n",
      "distance remaining: 3.54 meters.\n",
      "distance remaining: 3.49 meters.\n",
      "distance remaining: 3.35 meters.\n",
      "distance remaining: 3.30 meters.\n",
      "distance remaining: 3.16 meters.\n",
      "distance remaining: 3.07 meters.\n",
      "distance remaining: 2.93 meters.\n",
      "distance remaining: 2.81 meters.\n",
      "distance remaining: 2.70 meters.\n",
      "distance remaining: 2.55 meters.\n",
      "distance remaining: 2.45 meters.\n",
      "distance remaining: 2.28 meters.\n",
      "distance remaining: 2.18 meters.\n",
      "distance remaining: 1.98 meters.\n",
      "distance remaining: 1.88 meters.\n",
      "distance remaining: 1.73 meters.\n",
      "distance remaining: 1.58 meters.\n",
      "distance remaining: 1.48 meters.\n",
      "distance remaining: 1.32 meters.\n",
      "distance remaining: 1.21 meters.\n",
      "distance remaining: 1.06 meters.\n",
      "distance remaining: 0.97 meters.\n",
      "distance remaining: 0.86 meters.\n",
      "distance remaining: 0.74 meters.\n",
      "distance remaining: 0.62 meters.\n",
      "distance remaining: 0.55 meters.\n",
      "distance remaining: 0.36 meters.\n",
      "distance remaining: 0.24 meters.\n",
      "distance remaining: 0.24 meters.\n",
      "distance remaining: 0.24 meters.\n",
      "distance remaining: 0.24 meters.\n",
      "distance remaining: 0.24 meters.\n",
      "distance remaining: 0.24 meters.\n",
      "distance remaining: 0.24 meters.\n",
      "distance remaining: 0.24 meters.\n",
      "distance remaining: 0.24 meters.\n",
      "goal succeeded!!\n"
     ]
    },
    {
     "name": "stderr",
     "output_type": "stream",
     "text": [
      "[INFO] [1714371633.894967890] [basic_navigator]: Navigating to goal: 0.19 -3.74...\n"
     ]
    },
    {
     "name": "stdout",
     "output_type": "stream",
     "text": [
      "distance remaining: 2.20 meters.\n",
      "distance remaining: 2.20 meters.\n",
      "distance remaining: 2.20 meters.\n",
      "distance remaining: 2.14 meters.\n",
      "distance remaining: 2.09 meters.\n",
      "distance remaining: 1.99 meters.\n",
      "distance remaining: 1.89 meters.\n",
      "distance remaining: 1.79 meters.\n",
      "distance remaining: 1.69 meters.\n",
      "distance remaining: 1.54 meters.\n",
      "distance remaining: 1.38 meters.\n",
      "distance remaining: 1.27 meters.\n",
      "distance remaining: 1.07 meters.\n",
      "distance remaining: 0.95 meters.\n",
      "distance remaining: 0.88 meters.\n",
      "distance remaining: 0.70 meters.\n",
      "distance remaining: 0.57 meters.\n",
      "distance remaining: 0.46 meters.\n",
      "distance remaining: 0.36 meters.\n",
      "distance remaining: 0.24 meters.\n",
      "distance remaining: 0.19 meters.\n",
      "distance remaining: 0.19 meters.\n",
      "distance remaining: 0.24 meters.\n",
      "distance remaining: 0.24 meters.\n",
      "distance remaining: 0.24 meters.\n",
      "distance remaining: 0.24 meters.\n",
      "distance remaining: 0.24 meters.\n",
      "goal succeeded!!\n"
     ]
    }
   ],
   "source": [
    "pose_position_x_list = [5.9, 7.8, 7.89, 5.68, 1.45, 0.19]\n",
    "pose_position_y_list = [0.04, -2.0, -2.9, -4.77, -2.07, -3.74]\n",
    "pose_position_z_list = [0.0, 0.0, 0.0, 0.0, 0.0, 0.0]\n",
    "pose_orientation_x_list = [0.0, 0.0, 0.0, 0.0, 0.0, 0.0]\n",
    "pose_orientation_y_list = [0.0, 0.0, 0.0, 0.0, 0.0, 0.0]\n",
    "pose_orientation_z_list = [0.0, 0.0, 0.0, 0.0, 0.0, 0.0] # 수치 잘못 기입함 \n",
    "pose_orientation_w_list = [0.94, 0.76, 0.37, 0.17, 0.24, 0.76]\n",
    "from rclpy.duration import Duration\n",
    "from nav2_simple_commander.robot_navigator import TaskResult\n",
    "from geometry_msgs.msg import PoseStamped\n",
    "\n",
    "for index, target in enumerate(pose_position_x_list):\n",
    "\n",
    "    goal_pose = PoseStamped()\n",
    "    goal_pose.header.frame_id = 'map'\n",
    "    goal_pose.header.stamp = nav.get_clock().now().to_msg()\n",
    "    goal_pose.pose.position.x = pose_position_x_list[index]\n",
    "    goal_pose.pose.position.y = pose_position_y_list[index]\n",
    "    goal_pose.pose.position.z = pose_position_z_list[index]\n",
    "    goal_pose.pose.orientation.x = pose_orientation_x_list[index]\n",
    "    goal_pose.pose.orientation.y = pose_orientation_y_list[index]\n",
    "    goal_pose.pose.orientation.z = pose_orientation_z_list[index]\n",
    "    goal_pose.pose.orientation.w = pose_orientation_w_list[index]\n",
    "    nav.goToPose(goal_pose)\n",
    "\n",
    "    i = 0\n",
    "    while not nav.isTaskComplete():\n",
    "        i = i + 1\n",
    "        feedback =nav.getFeedback()\n",
    "        if feedback and i % 5 == 0 :\n",
    "            print(\"distance remaining: \" + \"{:.2f}\".format(feedback.distance_remaining) + \" meters.\")\n",
    "            if Duration.from_msg(feedback.navigation_time) > Duration(seconds=40.0):\n",
    "                nav.cancelTask()\n",
    "\n",
    "            # if feedback.distance_remaining < 0.25:\n",
    "            #     break\n",
    "\n",
    "    result = nav.getResult()\n",
    "\n",
    "    if result == TaskResult.SUCCEEDED:\n",
    "        print(\"goal succeeded!!\")\n",
    "    elif result == TaskResult.CANCELED:\n",
    "        print(\"goal canceled\")\n",
    "        break\n",
    "    elif result == TaskResult.FAILED:\n",
    "        print(\"gaol failed\")\n",
    "        break\n",
    "# lol "
   ]
  },
  {
   "cell_type": "code",
   "execution_count": 11,
   "metadata": {},
   "outputs": [
    {
     "data": {
      "text/plain": [
       "geometry_msgs.msg.PoseWithCovarianceStamped(header=std_msgs.msg.Header(stamp=builtin_interfaces.msg.Time(sec=0, nanosec=0), frame_id=''), pose=geometry_msgs.msg.PoseWithCovariance(pose=geometry_msgs.msg.Pose(position=geometry_msgs.msg.Point(x=0.0, y=0.0, z=0.0), orientation=geometry_msgs.msg.Quaternion(x=0.0, y=0.0, z=0.0, w=1.0)), covariance=array([0., 0., 0., 0., 0., 0., 0., 0., 0., 0., 0., 0., 0., 0., 0., 0., 0.,\n",
       "       0., 0., 0., 0., 0., 0., 0., 0., 0., 0., 0., 0., 0., 0., 0., 0., 0.,\n",
       "       0., 0.])))"
      ]
     },
     "execution_count": 11,
     "metadata": {},
     "output_type": "execute_result"
    }
   ],
   "source": [
    "import rclpy\n",
    "from geometry_msgs.msg import PoseWithCovarianceStamped\n",
    "rclpy.init()\n",
    "pose_current = PoseWithCovarianceStamped()\n",
    "pose_current"
   ]
  },
  {
   "cell_type": "code",
   "execution_count": 12,
   "metadata": {},
   "outputs": [],
   "source": [
    "pose_node = rclpy.create_node(\"sub_pose\")\n",
    "\n",
    "def callback(data):\n",
    "    global pose_current\n",
    "    print(\"===\")\n",
    "    print(data.pose.pose.position)\n",
    "    print(data.pose.pose.orientation)\n",
    "    pose_current = data\n",
    "\n"
   ]
  },
  {
   "cell_type": "code",
   "execution_count": 13,
   "metadata": {},
   "outputs": [
    {
     "data": {
      "text/plain": [
       "<rclpy.subscription.Subscription at 0x7292c5d6b1c0>"
      ]
     },
     "execution_count": 13,
     "metadata": {},
     "output_type": "execute_result"
    }
   ],
   "source": [
    "pose_node.create_subscription(PoseWithCovarianceStamped, \"amcl_pose\", callback, 10)"
   ]
  },
  {
   "cell_type": "code",
   "execution_count": 16,
   "metadata": {},
   "outputs": [
    {
     "name": "stdout",
     "output_type": "stream",
     "text": [
      "===\n",
      "geometry_msgs.msg.Point(x=0.2718014668301215, y=-3.557175361026858, z=0.0)\n",
      "geometry_msgs.msg.Quaternion(x=0.0, y=0.0, z=0.10561435523529542, w=0.9944071640772872)\n"
     ]
    }
   ],
   "source": [
    "rclpy.spin_once(pose_node)"
   ]
  },
  {
   "cell_type": "code",
   "execution_count": 14,
   "metadata": {},
   "outputs": [],
   "source": [
    "from tf_transformations import euler_from_quaternion\n"
   ]
  },
  {
   "cell_type": "code",
   "execution_count": 17,
   "metadata": {},
   "outputs": [
    {
     "data": {
      "text/plain": [
       "geometry_msgs.msg.PoseWithCovarianceStamped(header=std_msgs.msg.Header(stamp=builtin_interfaces.msg.Time(sec=4621, nanosec=753000000), frame_id='map'), pose=geometry_msgs.msg.PoseWithCovariance(pose=geometry_msgs.msg.Pose(position=geometry_msgs.msg.Point(x=0.2718014668301215, y=-3.557175361026858, z=0.0), orientation=geometry_msgs.msg.Quaternion(x=0.0, y=0.0, z=0.10561435523529542, w=0.9944071640772872)), covariance=array([ 0.0201361 , -0.00013502,  0.        ,  0.        ,  0.        ,\n",
       "        0.        , -0.00013502,  0.02893232,  0.        ,  0.        ,\n",
       "        0.        ,  0.        ,  0.        ,  0.        ,  0.        ,\n",
       "        0.        ,  0.        ,  0.        ,  0.        ,  0.        ,\n",
       "        0.        ,  0.        ,  0.        ,  0.        ,  0.        ,\n",
       "        0.        ,  0.        ,  0.        ,  0.        ,  0.        ,\n",
       "        0.        ,  0.        ,  0.        ,  0.        ,  0.        ,\n",
       "        0.02532   ])))"
      ]
     },
     "execution_count": 17,
     "metadata": {},
     "output_type": "execute_result"
    }
   ],
   "source": [
    "pose_current"
   ]
  },
  {
   "cell_type": "code",
   "execution_count": 18,
   "metadata": {},
   "outputs": [
    {
     "data": {
      "text/plain": [
       "geometry_msgs.msg.Quaternion(x=0.0, y=0.0, z=0.10561435523529542, w=0.9944071640772872)"
      ]
     },
     "execution_count": 18,
     "metadata": {},
     "output_type": "execute_result"
    }
   ],
   "source": [
    "pose_current.pose.pose.orientation"
   ]
  },
  {
   "cell_type": "code",
   "execution_count": 19,
   "metadata": {},
   "outputs": [
    {
     "data": {
      "text/plain": [
       "(3.141592653589793, -0.0, 0.0)"
      ]
     },
     "execution_count": 19,
     "metadata": {},
     "output_type": "execute_result"
    }
   ],
   "source": [
    "q = [0, 0, 0, 0]\n",
    "q[0] = pose_current.pose.pose.orientation.x\n",
    "q[0] = pose_current.pose.pose.orientation.y\n",
    "q[0] = pose_current.pose.pose.orientation.z\n",
    "q[0] = pose_current.pose.pose.orientation.w\n",
    "\n",
    "euler_from_quaternion(q)\n"
   ]
  },
  {
   "cell_type": "code",
   "execution_count": 20,
   "metadata": {},
   "outputs": [
    {
     "data": {
      "text/plain": [
       "array([180.,  -0.,   0.])"
      ]
     },
     "execution_count": 20,
     "metadata": {},
     "output_type": "execute_result"
    }
   ],
   "source": [
    "import numpy as np\n",
    "def convert_degree(input) :\n",
    "    return np.array(input) * 180 / np.pi\n",
    "convert_degree(euler_from_quaternion(q))\n"
   ]
  },
  {
   "cell_type": "code",
   "execution_count": 21,
   "metadata": {},
   "outputs": [
    {
     "name": "stdout",
     "output_type": "stream",
     "text": [
      "[0. 0. 0.]\n"
     ]
    },
    {
     "data": {
      "text/plain": [
       "(0.0, 0.0, 0.0, 1.0)"
      ]
     },
     "execution_count": 21,
     "metadata": {},
     "output_type": "execute_result"
    }
   ],
   "source": [
    "from tf_transformations import quaternion_from_euler\n",
    "\n",
    "to_radian = np.pi / 180.\n",
    "tmp = [0, 0, 0]\n",
    "print(np.array(tmp) * to_radian)\n",
    "quaternion_from_euler(tmp[0], tmp[1], tmp[2])"
   ]
  },
  {
   "cell_type": "code",
   "execution_count": null,
   "metadata": {},
   "outputs": [],
   "source": []
  }
 ],
 "metadata": {
  "kernelspec": {
   "display_name": "Python 3 (ipykernel)",
   "language": "python",
   "name": "python3"
  },
  "language_info": {
   "codemirror_mode": {
    "name": "ipython",
    "version": 3
   },
   "file_extension": ".py",
   "mimetype": "text/x-python",
   "name": "python",
   "nbconvert_exporter": "python",
   "pygments_lexer": "ipython3",
   "version": "3.10.12"
  }
 },
 "nbformat": 4,
 "nbformat_minor": 4
}
